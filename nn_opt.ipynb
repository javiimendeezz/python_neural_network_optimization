{
 "cells": [
  {
   "cell_type": "markdown",
   "metadata": {},
   "source": [
    "Bibliotecas"
   ]
  },
  {
   "cell_type": "code",
   "execution_count": 3,
   "metadata": {},
   "outputs": [],
   "source": [
    "import warnings\n",
    "import random\n",
    "warnings.filterwarnings('ignore')\n",
    "import numpy as np\n",
    "import pandas as pd\n",
    "import seaborn as sns # pip install seaborn\n",
    "from sklearn.preprocessing import LabelEncoder\n",
    "from collections import Counter\n",
    "from imblearn.under_sampling import RandomUnderSampler # pip install imbalanced-learn\n",
    "from sklearn.feature_selection import SelectKBest\n",
    "from sklearn.feature_selection import mutual_info_classif\n",
    "from sklearn.model_selection import train_test_split\n",
    "from sklearn.preprocessing import StandardScaler"
   ]
  },
  {
   "cell_type": "markdown",
   "metadata": {},
   "source": [
    "Lectura del conjunto de datos"
   ]
  },
  {
   "cell_type": "code",
   "execution_count": 4,
   "metadata": {},
   "outputs": [],
   "source": [
    "# Asegurar reproducibilidad\n",
    "SEED = 42\n",
    "random.seed(SEED)\n",
    "np.random.seed(SEED)\n",
    "\n",
    "df = pd.read_csv(\"mort_hospital.csv\")"
   ]
  },
  {
   "cell_type": "markdown",
   "metadata": {},
   "source": [
    "**Problema**: Alto número de columnas con datos no informados"
   ]
  },
  {
   "cell_type": "code",
   "execution_count": 5,
   "metadata": {},
   "outputs": [
    {
     "data": {
      "text/plain": [
       "175"
      ]
     },
     "execution_count": 5,
     "metadata": {},
     "output_type": "execute_result"
    }
   ],
   "source": [
    "df.isnull().any().sum()"
   ]
  },
  {
   "cell_type": "markdown",
   "metadata": {},
   "source": [
    "**Problema**: Presencia de variables no numéricas"
   ]
  },
  {
   "cell_type": "code",
   "execution_count": 8,
   "metadata": {},
   "outputs": [
    {
     "name": "stdout",
     "output_type": "stream",
     "text": [
      "Columnas con datos categóricos: 8\n",
      "Columnas con datos numéricos: 178\n"
     ]
    }
   ],
   "source": [
    "object_columns = df.select_dtypes(include=['object']).columns\n",
    "cols = df.select_dtypes([np.number]).columns\n",
    "print(\"Columnas con datos categóricos:\", len(object_columns))\n",
    "print(\"Columnas con datos numéricos:\", len(cols))"
   ]
  },
  {
   "cell_type": "markdown",
   "metadata": {},
   "source": [
    "**Problema**: Las clases de la variable de interés están muy desequilibradas"
   ]
  },
  {
   "cell_type": "code",
   "execution_count": 7,
   "metadata": {},
   "outputs": [
    {
     "data": {
      "text/plain": [
       "<Axes: xlabel='hospital_death', ylabel='count'>"
      ]
     },
     "execution_count": 7,
     "metadata": {},
     "output_type": "execute_result"
    },
    {
     "data": {
      "image/png": "[encoded data removed]",
      "text/plain": [
       "<Figure size 640x480 with 1 Axes>"
      ]
     },
     "metadata": {},
     "output_type": "display_data"
    }
   ],
   "source": [
    "sns.set_style('whitegrid')\n",
    "sns.countplot(x='hospital_death',data=df)"
   ]
  },
  {
   "cell_type": "markdown",
   "metadata": {},
   "source": [
    "Solución al problema de los datos no informados:\n",
    "- Variables categóricas: rellenar con la moda\n",
    "- Variables numéricas: rellenar con el promedio"
   ]
  },
  {
   "cell_type": "code",
   "execution_count": 9,
   "metadata": {},
   "outputs": [],
   "source": [
    "for i in object_columns:\n",
    "    df[i].fillna(df[i].mode()[0], inplace=True)\n",
    "\n",
    "df[cols] = df[cols].fillna(df[cols].mean())"
   ]
  },
  {
   "cell_type": "markdown",
   "metadata": {},
   "source": [
    "Solución al problema de las variables no numéricas:\n",
    "- Codificación de variables categóricas"
   ]
  },
  {
   "cell_type": "code",
   "execution_count": 10,
   "metadata": {},
   "outputs": [
    {
     "name": "stdout",
     "output_type": "stream",
     "text": [
      "Valores de la variable 'etnicity' antes de la codificación: ['Caucasian' 'Hispanic' 'African American' 'Asian' 'Native American'\n",
      " 'Other/Unknown']\n",
      "Valores de la variable 'etnicity' después de la codificación: [2 3 0 1 4 5]\n"
     ]
    }
   ],
   "source": [
    "print(\"Valores de la variable 'etnicity' antes de la codificación:\", df['ethnicity'].unique())\n",
    "le = LabelEncoder()\n",
    "df[object_columns] = df[object_columns].apply(le.fit_transform)\n",
    "print(\"Valores de la variable 'etnicity' después de la codificación:\", df['ethnicity'].unique())"
   ]
  },
  {
   "cell_type": "markdown",
   "metadata": {},
   "source": [
    "Solución al problema del desequilibrio de la variable de interés:\n",
    "- Muestreo de la clase más numerosa"
   ]
  },
  {
   "cell_type": "code",
   "execution_count": 11,
   "metadata": {},
   "outputs": [
    {
     "name": "stdout",
     "output_type": "stream",
     "text": [
      "Recuento de categorías de salida: Counter({0: 7915, 1: 7915})\n"
     ]
    }
   ],
   "source": [
    "X = df.drop(columns='hospital_death', axis=1)\n",
    "y = df['hospital_death']\n",
    "\n",
    "undersample = RandomUnderSampler(sampling_strategy='majority', random_state=SEED)\n",
    "X, y = undersample.fit_resample(X, y)\n",
    "\n",
    "print(\"Recuento de categorías de salida:\", Counter(y))"
   ]
  },
  {
   "cell_type": "markdown",
   "metadata": {},
   "source": [
    "Selección de características"
   ]
  },
  {
   "cell_type": "code",
   "execution_count": 12,
   "metadata": {},
   "outputs": [],
   "source": [
    "X_train, X_test, y_train, y_test = train_test_split(X, y, test_size=0.2, stratify=y, random_state=2)\n",
    "\n",
    "num_k = 50\n",
    "# El parámetro k determina cuántas características se seleccionan\n",
    "# El parámetro input_dim de la primera capa de la red deberá ser num_k\n",
    "kmejores = SelectKBest(mutual_info_classif, k=num_k)\n",
    "kmejores.fit(X_train, y_train)\n",
    "X_train.columns[kmejores.get_support()]\n",
    "X_train_new = kmejores.transform(X_train)\n",
    "X_test_new =  kmejores.transform(X_test)"
   ]
  },
  {
   "cell_type": "markdown",
   "metadata": {},
   "source": [
    "Normalización de datos"
   ]
  },
  {
   "cell_type": "code",
   "execution_count": 13,
   "metadata": {},
   "outputs": [],
   "source": [
    "scaler = StandardScaler()\n",
    "X_train_std = scaler.fit_transform(X_train_new)\n",
    "X_test_std = scaler.transform(X_test_new)"
   ]
  },
  {
   "cell_type": "markdown",
   "metadata": {},
   "source": [
    "### Solución de la tarea 2\n",
    "**Objetivos**\n",
    "- Entender el código proporcionado: tratamiento de datos no informados, codificación de variables categóricas, equilibrado de categorías de la variable de interés, selección de características y normalización.\n",
    "- Diseñar y entrenar una red neuronal para predecir la variable 'hospital_death':\n",
    "    - Probar con distintos valores de 'num_k' para cambiar el número de características seleccionadas.\n",
    "    - Diseñar un modelo secuencial ('Sequential()'), cuya primera capa debe especificar como 'input_dim' el valor 'num_k', probando distintos números de capas, funciones de activación (RELU y variantes para las capas ocultas, sigmoide para la capa final), número de neuronas en cada capa, capas 'Dropout', etc.\n",
    "    - Compilar el modelo estableciendo una función de error ('loss'), el optimizador (puedes cambiar el parámetro 'learning_rate') y las métricas de rendimiento que se calcularán.\n",
    "    - Ajustar el modelo con los datos de entrenamiento estableciendo para la función 'fit' el número de iteraciones ('epochs'), el porcentaje de datos de validación ('validation_split') y el tamaño de lote para la retropropagación ('batch_size').\n",
    "- **OPCIONAL**: En lugar de cablear en el código los parámetros anteriores y modificarlos a mano, se valorará muy positivamente la escritura de un programa que genere dinámicamente diferentes arquitecturas probando distintos valores para todos o algunos de los parámetros del punto anterior."
   ]
  },
  {
   "cell_type": "code",
   "execution_count": 20,
   "metadata": {},
   "outputs": [
    {
     "name": "stdout",
     "output_type": "stream",
     "text": [
      "Probando combinación: {'dropout_rate': 0.2, 'learning_rate': 0.0085, 'num_hidden_layers': 2, 'batch_size': 64}\n",
      "AUC-ROC (Train): 0.8931, AUC-ROC (Test): 0.8763\n",
      "Probando combinación: {'dropout_rate': 0.4, 'learning_rate': 0.009, 'num_hidden_layers': 2, 'batch_size': 48}\n",
      "AUC-ROC (Train): 0.8882, AUC-ROC (Test): 0.8744\n",
      "Probando combinación: {'dropout_rate': 0.25, 'learning_rate': 0.0015, 'num_hidden_layers': 3, 'batch_size': 32}\n",
      "AUC-ROC (Train): 0.8956, AUC-ROC (Test): 0.8771\n",
      "Probando combinación: {'dropout_rate': 0.35, 'learning_rate': 0.009, 'num_hidden_layers': 2, 'batch_size': 48}\n",
      "AUC-ROC (Train): 0.8883, AUC-ROC (Test): 0.8757\n",
      "Probando combinación: {'dropout_rate': 0.4, 'learning_rate': 0.0, 'num_hidden_layers': 3, 'batch_size': 32}\n",
      "AUC-ROC (Train): 0.5655, AUC-ROC (Test): 0.5722\n",
      "Probando combinación: {'dropout_rate': 0.2, 'learning_rate': 0.003, 'num_hidden_layers': 3, 'batch_size': 32}\n",
      "AUC-ROC (Train): 0.8942, AUC-ROC (Test): 0.8763\n",
      "Probando combinación: {'dropout_rate': 0.25, 'learning_rate': 0.0075, 'num_hidden_layers': 3, 'batch_size': 48}\n",
      "AUC-ROC (Train): 0.8911, AUC-ROC (Test): 0.8771\n",
      "Probando combinación: {'dropout_rate': 0.4, 'learning_rate': 0.0025, 'num_hidden_layers': 3, 'batch_size': 48}\n",
      "AUC-ROC (Train): 0.8939, AUC-ROC (Test): 0.8774\n",
      "Probando combinación: {'dropout_rate': 0.4, 'learning_rate': 0.003, 'num_hidden_layers': 2, 'batch_size': 64}\n",
      "AUC-ROC (Train): 0.8937, AUC-ROC (Test): 0.8783\n",
      "Probando combinación: {'dropout_rate': 0.45, 'learning_rate': 0.001, 'num_hidden_layers': 2, 'batch_size': 64}\n",
      "AUC-ROC (Train): 0.8961, AUC-ROC (Test): 0.8770\n",
      "Probando combinación: {'dropout_rate': 0.45, 'learning_rate': 0.008, 'num_hidden_layers': 3, 'batch_size': 16}\n",
      "AUC-ROC (Train): 0.8750, AUC-ROC (Test): 0.8667\n",
      "Probando combinación: {'dropout_rate': 0.4, 'learning_rate': 0.0, 'num_hidden_layers': 2, 'batch_size': 64}\n",
      "AUC-ROC (Train): 0.4575, AUC-ROC (Test): 0.4560\n",
      "Probando combinación: {'dropout_rate': 0.3, 'learning_rate': 0.0075, 'num_hidden_layers': 3, 'batch_size': 64}\n",
      "AUC-ROC (Train): 0.8888, AUC-ROC (Test): 0.8750\n",
      "Probando combinación: {'dropout_rate': 0.4, 'learning_rate': 0.009, 'num_hidden_layers': 2, 'batch_size': 32}\n",
      "AUC-ROC (Train): 0.8876, AUC-ROC (Test): 0.8742\n",
      "Probando combinación: {'dropout_rate': 0.3, 'learning_rate': 0.006, 'num_hidden_layers': 3, 'batch_size': 32}\n",
      "AUC-ROC (Train): 0.8928, AUC-ROC (Test): 0.8757\n",
      "Probando combinación: {'dropout_rate': 0.35, 'learning_rate': 0.006, 'num_hidden_layers': 3, 'batch_size': 48}\n",
      "AUC-ROC (Train): 0.8929, AUC-ROC (Test): 0.8762\n",
      "Probando combinación: {'dropout_rate': 0.35, 'learning_rate': 0.001, 'num_hidden_layers': 2, 'batch_size': 16}\n",
      "AUC-ROC (Train): 0.8963, AUC-ROC (Test): 0.8772\n",
      "Probando combinación: {'dropout_rate': 0.25, 'learning_rate': 0.0045, 'num_hidden_layers': 2, 'batch_size': 32}\n",
      "AUC-ROC (Train): 0.8939, AUC-ROC (Test): 0.8759\n",
      "Probando combinación: {'dropout_rate': 0.45, 'learning_rate': 0.001, 'num_hidden_layers': 3, 'batch_size': 48}\n",
      "AUC-ROC (Train): 0.8915, AUC-ROC (Test): 0.8771\n",
      "Probando combinación: {'dropout_rate': 0.4, 'learning_rate': 0.007, 'num_hidden_layers': 3, 'batch_size': 32}\n",
      "AUC-ROC (Train): 0.8842, AUC-ROC (Test): 0.8729\n",
      "Probando combinación: {'dropout_rate': 0.45, 'learning_rate': 0.0065, 'num_hidden_layers': 3, 'batch_size': 64}\n",
      "AUC-ROC (Train): 0.8907, AUC-ROC (Test): 0.8760\n",
      "Probando combinación: {'dropout_rate': 0.45, 'learning_rate': 0.0025, 'num_hidden_layers': 3, 'batch_size': 32}\n",
      "AUC-ROC (Train): 0.8955, AUC-ROC (Test): 0.8773\n",
      "Probando combinación: {'dropout_rate': 0.3, 'learning_rate': 0.0095, 'num_hidden_layers': 3, 'batch_size': 16}\n",
      "AUC-ROC (Train): 0.8796, AUC-ROC (Test): 0.8689\n",
      "Probando combinación: {'dropout_rate': 0.45, 'learning_rate': 0.0035, 'num_hidden_layers': 3, 'batch_size': 16}\n",
      "AUC-ROC (Train): 0.8894, AUC-ROC (Test): 0.8763\n",
      "Probando combinación: {'dropout_rate': 0.3, 'learning_rate': 0.0015, 'num_hidden_layers': 2, 'batch_size': 64}\n",
      "AUC-ROC (Train): 0.8978, AUC-ROC (Test): 0.8774\n",
      "Probando combinación: {'dropout_rate': 0.2, 'learning_rate': 0.002, 'num_hidden_layers': 2, 'batch_size': 16}\n",
      "AUC-ROC (Train): 0.8976, AUC-ROC (Test): 0.8775\n",
      "Probando combinación: {'dropout_rate': 0.4, 'learning_rate': 0.0025, 'num_hidden_layers': 2, 'batch_size': 32}\n",
      "AUC-ROC (Train): 0.8946, AUC-ROC (Test): 0.8779\n",
      "Probando combinación: {'dropout_rate': 0.2, 'learning_rate': 0.0075, 'num_hidden_layers': 2, 'batch_size': 32}\n",
      "AUC-ROC (Train): 0.8923, AUC-ROC (Test): 0.8751\n",
      "Probando combinación: {'dropout_rate': 0.4, 'learning_rate': 0.002, 'num_hidden_layers': 2, 'batch_size': 16}\n",
      "AUC-ROC (Train): 0.8964, AUC-ROC (Test): 0.8771\n",
      "Probando combinación: {'dropout_rate': 0.25, 'learning_rate': 0.0095, 'num_hidden_layers': 2, 'batch_size': 48}\n",
      "AUC-ROC (Train): 0.8885, AUC-ROC (Test): 0.8744\n",
      "\n",
      "Mejor combinación:\n",
      "{'dropout_rate': 0.4, 'learning_rate': 0.003, 'num_hidden_layers': 2, 'batch_size': 64, 'auc_train': 0.8937340284499307, 'auc_test': 0.8782911053517101}\n",
      "AUC-ROC del modelo final (Train): 0.8956, AUC-ROC del modelo final (Test): 0.8776\n"
     ]
    }
   ],
   "source": [
    "from sklearn.model_selection import KFold\n",
    "from sklearn.metrics import roc_auc_score\n",
    "import numpy as np\n",
    "import random\n",
    "import json\n",
    "from tensorflow.keras.models import Sequential\n",
    "from tensorflow.keras.layers import Dense, Dropout, Input\n",
    "from tensorflow.keras.optimizers import Adam\n",
    "from tensorflow.keras.callbacks import EarlyStopping\n",
    "\n",
    "# Función para generar valores aleatorios en los rangos\n",
    "def sample_from_range(param):\n",
    "    if param[\"type\"] == \"continuous\":\n",
    "        return round(random.uniform(param[\"min\"], param[\"max\"]) // param[\"step\"] * param[\"step\"], 5)\n",
    "    elif param[\"type\"] == \"discrete\":\n",
    "        return random.randrange(param[\"min\"], param[\"max\"] + 1, param.get(\"step\", 1))\n",
    "\n",
    "# Parametros de búsqueda\n",
    "param_space = {\n",
    "    \"dropout_rate\": {\"min\": 0.2, \"max\": 0.5, \"step\": 0.05, \"type\": \"continuous\"},\n",
    "    \"learning_rate\": {\"min\": 0.0001, \"max\": 0.01, \"step\": 0.0005, \"type\": \"continuous\"},\n",
    "    \"num_hidden_layers\": {\"min\": 2, \"max\": 3, \"type\": \"discrete\"},\n",
    "    \"batch_size\": {\"min\": 16, \"max\": 64, \"step\": 16, \"type\": \"discrete\"}\n",
    "}\n",
    "\n",
    "# Generar 30 configuraciones aleatorias\n",
    "n_trials = 30\n",
    "random_combinations = [\n",
    "    {key: sample_from_range(param_space[key]) for key in param_space}\n",
    "    for _ in range(n_trials)\n",
    "]\n",
    "\n",
    "# Función para construir y evaluar un modelo\n",
    "def build_and_evaluate_model(X_train, y_train, params):\n",
    "    model = Sequential()\n",
    "    model.add(Input(shape=(X_train.shape[1],)))\n",
    "    model.add(Dense(64, activation='relu'))\n",
    "    model.add(Dropout(params[\"dropout_rate\"]))\n",
    "\n",
    "    for _ in range(int(params[\"num_hidden_layers\"]) - 1):\n",
    "        model.add(Dense(32, activation='relu'))\n",
    "        model.add(Dropout(params[\"dropout_rate\"]))\n",
    "\n",
    "    model.add(Dense(1, activation='sigmoid'))\n",
    "\n",
    "    model.compile(optimizer=Adam(learning_rate=params[\"learning_rate\"]),\n",
    "                  loss='binary_crossentropy',\n",
    "                  metrics=['accuracy'])\n",
    "\n",
    "    return model\n",
    "\n",
    "# Función para realizar k-fold cross-validation\n",
    "def cross_validate_model(X, y, params, k=5):\n",
    "    kf = KFold(n_splits=k, shuffle=True, random_state=SEED)\n",
    "    auc_train_scores = []\n",
    "    auc_test_scores = []\n",
    "\n",
    "    X = np.array(X)\n",
    "    y = np.array(y)\n",
    "    \n",
    "    for train_index, val_index in kf.split(X):\n",
    "        X_train, X_val = X[train_index], X[val_index]\n",
    "        y_train, y_val = y[train_index], y[val_index]\n",
    "        \n",
    "        # Construir y entrenar el modelo\n",
    "        model = build_and_evaluate_model(X_train, y_train, params)\n",
    "        \n",
    "        early_stopping = EarlyStopping(monitor='val_loss', patience=5, restore_best_weights=True)\n",
    "        \n",
    "        model.fit(X_train, y_train, validation_data=(X_val, y_val),\n",
    "                  epochs=50, batch_size=int(params[\"batch_size\"]),\n",
    "                  callbacks=[early_stopping], verbose=0)\n",
    "        \n",
    "        y_train_pred = model.predict(X_train, verbose=0)\n",
    "        y_val_pred = model.predict(X_val, verbose=0)\n",
    "\n",
    "        auc_train = roc_auc_score(y_train, y_train_pred)\n",
    "        auc_test = roc_auc_score(y_val, y_val_pred)\n",
    "        \n",
    "        auc_train_scores.append(auc_train)\n",
    "        auc_test_scores.append(auc_test)\n",
    "\n",
    "    # Promediar los resultados\n",
    "    mean_auc_train = np.mean(auc_train_scores)\n",
    "    mean_auc_test = np.mean(auc_test_scores)\n",
    "    \n",
    "    return mean_auc_train, mean_auc_test\n",
    "\n",
    "# Entrenar y evaluar combinaciones con k-fold cross-validation\n",
    "results = []\n",
    "\n",
    "for params in random_combinations:\n",
    "    print(f\"Probando combinación: {params}\")\n",
    "\n",
    "    auc_train, auc_test = cross_validate_model(X_train_std, y_train, params)\n",
    "    params[\"auc_train\"] = auc_train\n",
    "    params[\"auc_test\"] = auc_test\n",
    "    results.append(params)\n",
    "    print(f\"AUC-ROC (Train): {auc_train:.4f}, AUC-ROC (Test): {auc_test:.4f}\")\n",
    "\n",
    "# Seleccionar la mejor combinación basada en el AUC de Test\n",
    "best_params = max(results, key=lambda x: x[\"auc_test\"])\n",
    "print(\"\\nMejor combinación:\")\n",
    "print(best_params)\n",
    "\n",
    "# Entrenar el modelo final con la mejor combinación\n",
    "final_auc_train, final_auc_test = cross_validate_model(X_train_std, y_train, best_params)\n",
    "print(f\"AUC-ROC del modelo final (Train): {final_auc_train:.4f}, AUC-ROC del modelo final (Test): {final_auc_test:.4f}\")\n",
    "\n",
    "# Guardar el mejor modelo y parámetros\n",
    "with open(\"best_model_params.json\", \"w\") as f:\n",
    "    json.dump(best_params, f)\n",
    "\n",
    "\n",
    "\n"
   ]
  },
  {
   "cell_type": "markdown",
   "metadata": {},
   "source": [
    "Mi solución implementa un proceso para la optimización de hiperparámetros de un modelo de red neuronal utilizando una búsqueda aleatoria de configuraciones y validación cruzada k-fold.\n",
    "\n",
    "### Resumen del flujo:\n",
    "\n",
    "1. **Generación de configuraciones aleatorias**: \n",
    "   Definimos un espacio de hiperparámetros para la red neuronal, que incluye el `dropout_rate`, `learning_rate`, el número de `num_hidden_layers`, y el `batch_size`. Estos parámetros se muestrean aleatoriamente dentro de los rangos especificados para generar diferentes combinaciones que se prueban durante el proceso de entrenamiento.\n",
    "\n",
    "2. **Construcción del modelo**: \n",
    "   Se construye una red neuronal de tipo secuencial con una capa densa inicial y capas adicionales de acuerdo con el número de capas ocultas especificado en cada configuración. La red usa la función de activación ReLU, con un `dropout_rate` para regularización y un optimizador Adam con una tasa de aprendizaje ajustada.\n",
    "\n",
    "3. **Evaluación con validación cruzada**:\n",
    "   Para cada combinación de hiperparámetros generada, se realiza una validación cruzada k-fold (por defecto k=5). En cada división del conjunto de datos, se entrena el modelo y se evalúa su rendimiento en términos de la métrica AUC-ROC tanto en los datos de entrenamiento como en los de validación.\n",
    "\n",
    "4. **Selección de la mejor configuración**:\n",
    "   Se calcula el promedio del AUC-ROC a través de todas las divisiones k-fold y se selecciona la combinación de hiperparámetros que logre el mejor rendimiento en el conjunto de validación.\n",
    "\n",
    "5. **Entrenamiento final**:\n",
    "   Con la mejor combinación de hiperparámetros, se entrena el modelo final y se guarda tanto el modelo como los parámetros en archivos JSON para su posterior uso o análisis.\n",
    "\n",
    "\n"
   ]
  }
 ],
 "metadata": {
  "kernelspec": {
   "display_name": "Python 3",
   "language": "python",
   "name": "python3"
  },
  "language_info": {
   "codemirror_mode": {
    "name": "ipython",
    "version": 3
   },
   "file_extension": ".py",
   "mimetype": "text/x-python",
   "name": "python",
   "nbconvert_exporter": "python",
   "pygments_lexer": "ipython3",
   "version": "3.12.6"
  }
 },
 "nbformat": 4,
 "nbformat_minor": 2
}
